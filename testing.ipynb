{
 "metadata": {
  "language_info": {
   "codemirror_mode": {
    "name": "ipython",
    "version": 3
   },
   "file_extension": ".py",
   "mimetype": "text/x-python",
   "name": "python",
   "nbconvert_exporter": "python",
   "pygments_lexer": "ipython3",
   "version": "3.8.4-final"
  },
  "orig_nbformat": 2,
  "kernelspec": {
   "name": "python_defaultSpec_1597414579429",
   "display_name": "Python 3.8.4 64-bit"
  }
 },
 "nbformat": 4,
 "nbformat_minor": 2,
 "cells": [
  {
   "cell_type": "code",
   "execution_count": 1,
   "metadata": {},
   "outputs": [],
   "source": [
    "from snap7 import client\n",
    "from snap7.snap7types import *\n",
    "from snap7 import util"
   ]
  },
  {
   "cell_type": "code",
   "execution_count": 2,
   "metadata": {},
   "outputs": [],
   "source": [
    "plc = getattr(client, 'Client')()"
   ]
  },
  {
   "cell_type": "code",
   "execution_count": 3,
   "metadata": {
    "tags": []
   },
   "outputs": [],
   "source": [
    "getattr(plc, 'connect')('127.0.0.1',0,0, 8088)"
   ]
  },
  {
   "cell_type": "code",
   "execution_count": 4,
   "metadata": {
    "tags": []
   },
   "outputs": [
    {
     "output_type": "execute_result",
     "data": {
      "text/plain": "10"
     },
     "metadata": {},
     "execution_count": 4
    }
   ],
   "source": [
    "db = plc.db_read(0, 0, 12)\n",
    "util.get_small_int(db, 11)"
   ]
  },
  {
   "cell_type": "code",
   "execution_count": 47,
   "metadata": {
    "tags": []
   },
   "outputs": [
    {
     "output_type": "stream",
     "name": "stdout",
     "text": "bytearray(b'A\\xf9\\xcc\\xcd\\x00\\x00\\x00\\x00\\x00\\x00')\n31.225000381469727\n"
    }
   ],
   "source": [
    "print(  temp:=plc.read_area(S7AreaDB, 0, 0, 10)  )\n",
    "print(  get_real(temp, 0)  )"
   ]
  },
  {
   "cell_type": "code",
   "execution_count": 43,
   "metadata": {},
   "outputs": [
    {
     "output_type": "execute_result",
     "data": {
      "text/plain": "31.100000381469727"
     },
     "metadata": {},
     "execution_count": 43
    }
   ],
   "source": [
    "getattr(util, 'get_real')(temp,0)"
   ]
  },
  {
   "cell_type": "code",
   "execution_count": null,
   "metadata": {},
   "outputs": [],
   "source": []
  },
  {
   "cell_type": "code",
   "execution_count": null,
   "metadata": {},
   "outputs": [],
   "source": []
  },
  {
   "cell_type": "code",
   "execution_count": null,
   "metadata": {},
   "outputs": [],
   "source": []
  },
  {
   "cell_type": "code",
   "execution_count": 58,
   "metadata": {},
   "outputs": [],
   "source": [
    "## MULTI READ\n",
    "import ctypes\n",
    "import struct\n",
    "\n",
    "from snap7 import client\n",
    "from snap7.common import check_error\n",
    "from snap7.snap7types import S7DataItem, S7AreaDB, S7WLByte\n",
    "\n",
    "plc = getattr(client, 'Client')()\n",
    "getattr(plc, 'connect')('127.0.0.1',0,0, 8088)\n",
    "\n",
    "data_items = (S7DataItem * 4)()"
   ]
  },
  {
   "cell_type": "code",
   "execution_count": 59,
   "metadata": {},
   "outputs": [],
   "source": [
    "data_items[0].Area = ctypes.c_int32(S7AreaPA)\n",
    "data_items[0].WordLen = ctypes.c_int32(S7WLByte)\n",
    "data_items[0].Result = ctypes.c_int32(0)\n",
    "data_items[0].DBNumber = ctypes.c_int32(0)\n",
    "data_items[0].Start = ctypes.c_int32(0)\n",
    "data_items[0].Amount = ctypes.c_int32(10)  # read"
   ]
  },
  {
   "cell_type": "code",
   "execution_count": 60,
   "metadata": {},
   "outputs": [],
   "source": [
    "data_items[1].Area = ctypes.c_int32(S7AreaMK)\n",
    "data_items[1].WordLen = ctypes.c_int32(S7WLByte)\n",
    "data_items[1].Result = ctypes.c_int32(0)\n",
    "data_items[1].DBNumber = ctypes.c_int32(0)\n",
    "data_items[1].Start = ctypes.c_int32(0)\n",
    "data_items[1].Amount = ctypes.c_int32(10)  # read\n",
    "\n",
    "data_items[2].Area = ctypes.c_int32(S7AreaPE)\n",
    "data_items[2].WordLen = ctypes.c_int32(S7WLByte)\n",
    "data_items[2].Result = ctypes.c_int32(0)\n",
    "data_items[2].DBNumber = ctypes.c_int32(0)\n",
    "data_items[2].Start = ctypes.c_int32(0)\n",
    "data_items[2].Amount = ctypes.c_int32(10)  # read\n",
    "\n",
    "data_items[3].Area = ctypes.c_int32(S7AreaDB)\n",
    "data_items[3].WordLen = ctypes.c_int32(S7WLByte)\n",
    "data_items[3].Result = ctypes.c_int32(0)\n",
    "data_items[3].DBNumber = ctypes.c_int32(0)\n",
    "data_items[3].Start = ctypes.c_int32(0)\n",
    "data_items[3].Amount = ctypes.c_int32(10)  # read"
   ]
  },
  {
   "cell_type": "code",
   "execution_count": 66,
   "metadata": {
    "tags": []
   },
   "outputs": [
    {
     "output_type": "stream",
     "name": "stdout",
     "text": "0 [<snap7.snap7types.LP_c_ubyte object at 0x0000025FA1281B40>, <snap7.snap7types.LP_c_ubyte object at 0x0000025FA1281C40>, <snap7.snap7types.LP_c_ubyte object at 0x0000025FA1281D40>, <snap7.snap7types.LP_c_ubyte object at 0x0000025FA1281E40>]\n[1.2339999675750732, 2.2339999675750732, 3.2339999675750732, 31.225000381469727]\n"
    }
   ],
   "source": [
    "for di in data_items:\n",
    "    # create the buffer\n",
    "    buffer = ctypes.create_string_buffer(di.Amount)\n",
    "\n",
    "    # cast the pointer to the buffer to the required type\n",
    "    pBuffer = ctypes.cast(ctypes.pointer(buffer),\n",
    "                          ctypes.POINTER(ctypes.c_uint8))\n",
    "    di.pData = pBuffer\n",
    "\n",
    "result, data_items = plc.read_multi_vars(data_items)\n",
    "\n",
    "for di in data_items:\n",
    "    check_error(di.Result)\n",
    "print(result, [di.pData for di in data_items])\n",
    "result_values = []\n",
    "# function to cast bytes to match data_types[] above\n",
    "byte_to_value = [util.get_real ,util.get_real, util.get_real, util.get_real]\n",
    "\n",
    "# unpack and test the result of each read\n",
    "for i in range(0, len(data_items)):\n",
    "    btv = byte_to_value[i]\n",
    "    di = data_items[i]\n",
    "    value = btv(di.pData, 0)\n",
    "    result_values.append(value)\n",
    "print(result_values)\n"
   ]
  },
  {
   "cell_type": "code",
   "execution_count": 77,
   "metadata": {},
   "outputs": [],
   "source": [
    "globals()['asd'] = 10"
   ]
  },
  {
   "cell_type": "code",
   "execution_count": 78,
   "metadata": {},
   "outputs": [
    {
     "output_type": "execute_result",
     "data": {
      "text/plain": "10"
     },
     "metadata": {},
     "execution_count": 78
    }
   ],
   "source": [
    "asd"
   ]
  },
  {
   "cell_type": "code",
   "execution_count": 85,
   "metadata": {
    "tags": []
   },
   "outputs": [
    {
     "output_type": "execute_result",
     "data": {
      "text/plain": "        area  numero      nombre\n0  srvAreaPA       0     outputs\n1  srvAreaMK       0  globaldata",
      "text/html": "<div>\n<style scoped>\n    .dataframe tbody tr th:only-of-type {\n        vertical-align: middle;\n    }\n\n    .dataframe tbody tr th {\n        vertical-align: top;\n    }\n\n    .dataframe thead th {\n        text-align: right;\n    }\n</style>\n<table border=\"1\" class=\"dataframe\">\n  <thead>\n    <tr style=\"text-align: right;\">\n      <th></th>\n      <th>area</th>\n      <th>numero</th>\n      <th>nombre</th>\n    </tr>\n  </thead>\n  <tbody>\n    <tr>\n      <th>0</th>\n      <td>srvAreaPA</td>\n      <td>0</td>\n      <td>outputs</td>\n    </tr>\n    <tr>\n      <th>1</th>\n      <td>srvAreaMK</td>\n      <td>0</td>\n      <td>globaldata</td>\n    </tr>\n  </tbody>\n</table>\n</div>"
     },
     "metadata": {},
     "execution_count": 85
    }
   ],
   "source": [
    "import pandas as pd\n",
    "df = pd.read_csv('configs/server init.csv').dropna()\n",
    "df.head(2)"
   ]
  },
  {
   "cell_type": "code",
   "execution_count": 108,
   "metadata": {
    "tags": []
   },
   "outputs": [
    {
     "output_type": "execute_result",
     "data": {
      "text/plain": "4"
     },
     "metadata": {},
     "execution_count": 108
    }
   ],
   "source": [
    "len(df)"
   ]
  },
  {
   "cell_type": "code",
   "execution_count": null,
   "metadata": {},
   "outputs": [],
   "source": []
  }
 ]
}