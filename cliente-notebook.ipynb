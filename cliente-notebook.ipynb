{
 "metadata": {
  "language_info": {
   "codemirror_mode": {
    "name": "ipython",
    "version": 3
   },
   "file_extension": ".py",
   "mimetype": "text/x-python",
   "name": "python",
   "nbconvert_exporter": "python",
   "pygments_lexer": "ipython3",
   "version": "3.8.4-final"
  },
  "orig_nbformat": 2,
  "kernelspec": {
   "name": "python_defaultSpec_1597329128888",
   "display_name": "Python 3.8.4 64-bit"
  }
 },
 "nbformat": 4,
 "nbformat_minor": 2,
 "cells": [
  {
   "cell_type": "code",
   "execution_count": 4,
   "metadata": {},
   "outputs": [],
   "source": [
    "import snap7\n",
    "import ctypes\n",
    "from snap7.snap7types import *\n",
    "from snap7.common import check_error\n",
    "from snap7 import util"
   ]
  },
  {
   "cell_type": "code",
   "execution_count": 5,
   "metadata": {},
   "outputs": [],
   "source": [
    "plc = snap7.client.Client()\n",
    "plc.connect('127.0.0.1',0,0,8088)"
   ]
  },
  {
   "cell_type": "code",
   "execution_count": 6,
   "metadata": {},
   "outputs": [],
   "source": [
    "data_items = (S7DataItem*2)()"
   ]
  },
  {
   "cell_type": "code",
   "execution_count": 7,
   "metadata": {},
   "outputs": [],
   "source": [
    "data_items[0].Area = ctypes.c_int32(S7AreaDB)\n",
    "data_items[0].WordLen = ctypes.c_int32(S7WLBit)\n",
    "data_items[0].Result = ctypes.c_int32(0)\n",
    "data_items[0].DBNumber = ctypes.c_int32(0)\n",
    "data_items[0].Start = ctypes.c_int32(8 * 1 + 0) # al estar en modo bit es 8 bits * 5 bytes ya que en el DB0.DBX5.0\n",
    "data_items[0].Amount = ctypes.c_int32(S7WLBit)  # re\n",
    "\n",
    "data_items[1].Area = ctypes.c_int32(S7AreaDB)\n",
    "data_items[1].WordLen = ctypes.c_int32(S7WLBit)\n",
    "data_items[1].Result = ctypes.c_int32(0)\n",
    "data_items[1].DBNumber = ctypes.c_int32(0)\n",
    "data_items[1].Start = ctypes.c_int32(8 * 1 + 1) # + bit\n",
    "data_items[1].Amount = ctypes.c_int32(S7WLBit)  # re\n",
    "\n",
    "# data_items[2].Area = ctypes.c_int32(S7AreaDB)\n",
    "# data_items[2].WordLen = ctypes.c_int32(S7WLReal)\n",
    "# data_items[2].Result = ctypes.c_int32(0)\n",
    "# data_items[2].DBNumber = ctypes.c_int32(0)\n",
    "# data_items[2].Start = ctypes.c_int32(0)\n",
    "# data_items[2].Amount = ctypes.c_int32(S7WLByte)  # re\n",
    "\n",
    "# data_items[3].Area = ctypes.c_int32(S7AreaDB)\n",
    "# data_items[3].WordLen = ctypes.c_int32(S7WLByte)\n",
    "# data_items[3].Result = ctypes.c_int32(0)\n",
    "# data_items[3].DBNumber = ctypes.c_int32(0)\n",
    "# data_items[3].Start = ctypes.c_int32(6)\n",
    "# data_items[3].Amount = ctypes.c_int32(S7WLByte)  # re"
   ]
  },
  {
   "cell_type": "code",
   "execution_count": 8,
   "metadata": {
    "tags": []
   },
   "outputs": [],
   "source": [
    "for di in data_items:\n",
    "    # create the buffer\n",
    "    buffer = ctypes.create_string_buffer(di.Amount)\n",
    "\n",
    "    # cast the pointer to the buffer to the required type\n",
    "    pBuffer = ctypes.cast(ctypes.pointer(buffer),\n",
    "                          ctypes.POINTER(ctypes.c_uint8))\n",
    "    di.pData = pBuffer\n",
    "\n",
    "result, data_items = plc.read_multi_vars(data_items)\n",
    "for di in data_items:\n",
    "    check_error(di.Result)\n",
    "\n"
   ]
  },
  {
   "cell_type": "code",
   "execution_count": 9,
   "metadata": {
    "tags": []
   },
   "outputs": [
    {
     "output_type": "stream",
     "name": "stdout",
     "text": "[True, False]\n"
    }
   ],
   "source": [
    "byte_to_value = [util.get_bool, util.get_bool]\n",
    "result_values = []\n",
    "\n",
    "# unpack and test the result of each read\n",
    "for i in range(0, len(data_items)):\n",
    "    di = data_items[i]\n",
    "    if di.WordLen == S7WLBit:\n",
    "        value = util.get_bool(di.pData, 0, 0)\n",
    "    elif di.WordLen == S7WLByte:\n",
    "        value = util.get_int(di.pData, 0)\n",
    "    elif di.WordLen == S7WLDWord:\n",
    "        value = util.get_dword(di.pData, 0)\n",
    "    elif di.WordLen == S7WLReal:\n",
    "        value = util.get_real(di.pData, 0)\n",
    "    result_values.append(value)\n",
    "print(result_values)"
   ]
  },
  {
   "cell_type": "code",
   "execution_count": null,
   "metadata": {},
   "outputs": [],
   "source": []
  },
  {
   "cell_type": "code",
   "execution_count": null,
   "metadata": {},
   "outputs": [],
   "source": []
  },
  {
   "cell_type": "code",
   "execution_count": null,
   "metadata": {},
   "outputs": [],
   "source": []
  },
  {
   "cell_type": "code",
   "execution_count": null,
   "metadata": {},
   "outputs": [],
   "source": []
  }
 ]
}