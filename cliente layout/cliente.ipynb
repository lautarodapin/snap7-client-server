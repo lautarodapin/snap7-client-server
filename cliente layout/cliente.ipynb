{
 "metadata": {
  "language_info": {
   "codemirror_mode": {
    "name": "ipython",
    "version": 3
   },
   "file_extension": ".py",
   "mimetype": "text/x-python",
   "name": "python",
   "nbconvert_exporter": "python",
   "pygments_lexer": "ipython3",
   "version": "3.8.4-final"
  },
  "orig_nbformat": 2,
  "kernelspec": {
   "name": "python_defaultSpec_1597752945375",
   "display_name": "Python 3.8.4 64-bit"
  }
 },
 "nbformat": 4,
 "nbformat_minor": 2,
 "cells": [
  {
   "cell_type": "code",
   "execution_count": 1,
   "metadata": {},
   "outputs": [],
   "source": [
    "from snap7.client import Client\n",
    "from snap7.util import *\n",
    "from snap7.snap7exceptions import Snap7Exception\n",
    "from snap7.snap7types import *\n",
    "from extras import *\n",
    "IP = '127.0.0.1'\n",
    "PORT = 8088\n",
    "RACK = 0\n",
    "SLOT = 0"
   ]
  },
  {
   "cell_type": "code",
   "execution_count": 6,
   "metadata": {},
   "outputs": [],
   "source": [
    "client = Client()\n",
    "client.connect(IP, RACK, SLOT, PORT)\n",
    "with open('lecturas/db_small_int.txt', 'r') as f:\n",
    "    layout = f.read()\n",
    "layout=\"\"\"\n",
    "2       hora        SINT\n",
    "8       int         INT\n",
    "\"\"\"\n",
    "db_number = 0\n",
    "all_data = client.db_get(db_number)\n",
    "\n",
    "db1 = DB_mixin(\n",
    "    db_number,              # the db we use\n",
    "    all_data,               # bytearray from the plc\n",
    "    layout,                 # layout specification DB variable data\n",
    "    10,                   # size of the specification 17 is start\n",
    "    1000,                      # number of row's / specifications\n",
    ")"
   ]
  },
  {
   "cell_type": "code",
   "execution_count": 7,
   "metadata": {},
   "outputs": [
    {
     "output_type": "execute_result",
     "data": {
      "text/plain": "\nhora                 45        \nint                  99        "
     },
     "metadata": {},
     "execution_count": 7
    }
   ],
   "source": [
    "db1[0]"
   ]
  },
  {
   "cell_type": "code",
   "execution_count": 11,
   "metadata": {
    "tags": [
     "outputPrepend"
    ]
   },
   "outputs": [
    {
     "output_type": "stream",
     "name": "stdout",
     "text": "      )\n(881, \nhora                 0         \nminuto               0         \nsegundo              0         \nreal                 0.0       \nint                  0         )\n(882, \nhora                 0         \nminuto               0         \nsegundo              0         \nreal                 0.0       \nint                  0         )\n(883, \nhora                 0         \nminuto               0         \nsegundo              0         \nreal                 0.0       \nint                  0         )\n(884, \nhora                 0         \nminuto               0         \nsegundo              0         \nreal                 0.0       \nint                  0         )\n(885, \nhora                 0         \nminuto               0         \nsegundo              0         \nreal                 0.0       \nint                  0         )\n(886, \nhora                 0         \nminuto               0         \nsegundo              0         \nreal                 0.0       \nint                  0         )\n(887, \nhora                 0         \nminuto               0         \nsegundo              0         \nreal                 0.0       \nint                  0         )\n(888, \nhora                 0         \nminuto               0         \nsegundo              0         \nreal                 0.0       \nint                  0         )\n(889, \nhora                 0         \nminuto               0         \nsegundo              0         \nreal                 0.0       \nint                  0         )\n(890, \nhora                 0         \nminuto               0         \nsegundo              0         \nreal                 0.0       \nint                  0         )\n(891, \nhora                 0         \nminuto               0         \nsegundo              0         \nreal                 0.0       \nint                  0         )\n(892, \nhora                 0         \nminuto               0         \nsegundo              0         \nreal                 0.0       \nint                  0         )\n(893, \nhora                 0         \nminuto               0         \nsegundo              0         \nreal                 0.0       \nint                  0         )\n(894, \nhora                 0         \nminuto               0         \nsegundo              0         \nreal                 0.0       \nint                  0         )\n(895, \nhora                 0         \nminuto               0         \nsegundo              0         \nreal                 0.0       \nint                  0         )\n(896, \nhora                 0         \nminuto               0         \nsegundo              0         \nreal                 0.0       \nint                  0         )\n(897, \nhora                 0         \nminuto               0         \nsegundo              0         \nreal                 0.0       \nint                  0         )\n(898, \nhora                 0         \nminuto               0         \nsegundo              0         \nreal                 0.0       \nint                  0         )\n(899, \nhora                 0         \nminuto               0         \nsegundo              0         \nreal                 0.0       \nint                  0         )\n(900, \nhora                 0         \nminuto               0         \nsegundo              0         \nreal                 0.0       \nint                  0         )\n(901, \nhora                 0         \nminuto               0         \nsegundo              0         \nreal                 0.0       \nint                  0         )\n(902, \nhora                 0         \nminuto               0         \nsegundo              0         \nreal                 0.0       \nint                  0         )\n(903, \nhora                 0         \nminuto               0         \nsegundo              0         \nreal                 0.0       \nint                  0         )\n(904, \nhora                 0         \nminuto               0         \nsegundo              0         \nreal                 0.0       \nint                  0         )\n(905, \nhora                 0         \nminuto               0         \nsegundo              0         \nreal                 0.0       \nint                  0         )\n(906, \nhora                 0         \nminuto               0         \nsegundo              0         \nreal                 0.0       \nint                  0         )\n(907, \nhora                 0         \nminuto               0         \nsegundo              0         \nreal                 0.0       \nint                  0         )\n(908, \nhora                 0         \nminuto               0         \nsegundo              0         \nreal                 0.0       \nint                  0         )\n(909, \nhora                 0         \nminuto               0         \nsegundo              0         \nreal                 0.0       \nint                  0         )\n(910, \nhora                 0         \nminuto               0         \nsegundo              0         \nreal                 0.0       \nint                  0         )\n(911, \nhora                 0         \nminuto               0         \nsegundo              0         \nreal                 0.0       \nint                  0         )\n(912, \nhora                 0         \nminuto               0         \nsegundo              0         \nreal                 0.0       \nint                  0         )\n(913, \nhora                 0         \nminuto               0         \nsegundo              0         \nreal                 0.0       \nint                  0         )\n(914, \nhora                 0         \nminuto               0         \nsegundo              0         \nreal                 0.0       \nint                  0         )\n(915, \nhora                 0         \nminuto               0         \nsegundo              0         \nreal                 0.0       \nint                  0         )\n(916, \nhora                 0         \nminuto               0         \nsegundo              0         \nreal                 0.0       \nint                  0         )\n(917, \nhora                 0         \nminuto               0         \nsegundo              0         \nreal                 0.0       \nint                  0         )\n(918, \nhora                 0         \nminuto               0         \nsegundo              0         \nreal                 0.0       \nint                  0         )\n(919, \nhora                 0         \nminuto               0         \nsegundo              0         \nreal                 0.0       \nint                  0         )\n(920, \nhora                 0         \nminuto               0         \nsegundo              0         \nreal                 0.0       \nint                  0         )\n(921, \nhora                 0         \nminuto               0         \nsegundo              0         \nreal                 0.0       \nint                  0         )\n(922, \nhora                 0         \nminuto               0         \nsegundo              0         \nreal                 0.0       \nint                  0         )\n(923, \nhora                 0         \nminuto               0         \nsegundo              0         \nreal                 0.0       \nint                  0         )\n(924, \nhora                 0         \nminuto               0         \nsegundo              0         \nreal                 0.0       \nint                  0         )\n(925, \nhora                 0         \nminuto               0         \nsegundo              0         \nreal                 0.0       \nint                  0         )\n(926, \nhora                 0         \nminuto               0         \nsegundo              0         \nreal                 0.0       \nint                  0         )\n(927, \nhora                 0         \nminuto               0         \nsegundo              0         \nreal                 0.0       \nint                  0         )\n(928, \nhora                 0         \nminuto               0         \nsegundo              0         \nreal                 0.0       \nint                  0         )\n(929, \nhora                 0         \nminuto               0         \nsegundo              0         \nreal                 0.0       \nint                  0         )\n(930, \nhora                 0         \nminuto               0         \nsegundo              0         \nreal                 0.0       \nint                  0         )\n(931, \nhora                 0         \nminuto               0         \nsegundo              0         \nreal                 0.0       \nint                  0         )\n(932, \nhora                 0         \nminuto               0         \nsegundo              0         \nreal                 0.0       \nint                  0         )\n(933, \nhora                 0         \nminuto               0         \nsegundo              0         \nreal                 0.0       \nint                  0         )\n(934, \nhora                 0         \nminuto               0         \nsegundo              0         \nreal                 0.0       \nint                  0         )\n(935, \nhora                 0         \nminuto               0         \nsegundo              0         \nreal                 0.0       \nint                  0         )\n(936, \nhora                 0         \nminuto               0         \nsegundo              0         \nreal                 0.0       \nint                  0         )\n(937, \nhora                 0         \nminuto               0         \nsegundo              0         \nreal                 0.0       \nint                  0         )\n(938, \nhora                 0         \nminuto               0         \nsegundo              0         \nreal                 0.0       \nint                  0         )\n(939, \nhora                 0         \nminuto               0         \nsegundo              0         \nreal                 0.0       \nint                  0         )\n(940, \nhora                 0         \nminuto               0         \nsegundo              0         \nreal                 0.0       \nint                  0         )\n(941, \nhora                 0         \nminuto               0         \nsegundo              0         \nreal                 0.0       \nint                  0         )\n(942, \nhora                 0         \nminuto               0         \nsegundo              0         \nreal                 0.0       \nint                  0         )\n(943, \nhora                 0         \nminuto               0         \nsegundo              0         \nreal                 0.0       \nint                  0         )\n(944, \nhora                 0         \nminuto               0         \nsegundo              0         \nreal                 0.0       \nint                  0         )\n(945, \nhora                 0         \nminuto               0         \nsegundo              0         \nreal                 0.0       \nint                  0         )\n(946, \nhora                 0         \nminuto               0         \nsegundo              0         \nreal                 0.0       \nint                  0         )\n(947, \nhora                 0         \nminuto               0         \nsegundo              0         \nreal                 0.0       \nint                  0         )\n(948, \nhora                 0         \nminuto               0         \nsegundo              0         \nreal                 0.0       \nint                  0         )\n(949, \nhora                 0         \nminuto               0         \nsegundo              0         \nreal                 0.0       \nint                  0         )\n(950, \nhora                 0         \nminuto               0         \nsegundo              0         \nreal                 0.0       \nint                  0         )\n(951, \nhora                 0         \nminuto               0         \nsegundo              0         \nreal                 0.0       \nint                  0         )\n(952, \nhora                 0         \nminuto               0         \nsegundo              0         \nreal                 0.0       \nint                  0         )\n(953, \nhora                 0         \nminuto               0         \nsegundo              0         \nreal                 0.0       \nint                  0         )\n(954, \nhora                 0         \nminuto               0         \nsegundo              0         \nreal                 0.0       \nint                  0         )\n(955, \nhora                 0         \nminuto               0         \nsegundo              0         \nreal                 0.0       \nint                  0         )\n(956, \nhora                 0         \nminuto               0         \nsegundo              0         \nreal                 0.0       \nint                  0         )\n(957, \nhora                 0         \nminuto               0         \nsegundo              0         \nreal                 0.0       \nint                  0         )\n(958, \nhora                 0         \nminuto               0         \nsegundo              0         \nreal                 0.0       \nint                  0         )\n(959, \nhora                 0         \nminuto               0         \nsegundo              0         \nreal                 0.0       \nint                  0         )\n(960, \nhora                 0         \nminuto               0         \nsegundo              0         \nreal                 0.0       \nint                  0         )\n(961, \nhora                 0         \nminuto               0         \nsegundo              0         \nreal                 0.0       \nint                  0         )\n(962, \nhora                 0         \nminuto               0         \nsegundo              0         \nreal                 0.0       \nint                  0         )\n(963, \nhora                 0         \nminuto               0         \nsegundo              0         \nreal                 0.0       \nint                  0         )\n(964, \nhora                 0         \nminuto               0         \nsegundo              0         \nreal                 0.0       \nint                  0         )\n(965, \nhora                 0         \nminuto               0         \nsegundo              0         \nreal                 0.0       \nint                  0         )\n(966, \nhora                 0         \nminuto               0         \nsegundo              0         \nreal                 0.0       \nint                  0         )\n(967, \nhora                 0         \nminuto               0         \nsegundo              0         \nreal                 0.0       \nint                  0         )\n(968, \nhora                 0         \nminuto               0         \nsegundo              0         \nreal                 0.0       \nint                  0         )\n(969, \nhora                 0         \nminuto               0         \nsegundo              0         \nreal                 0.0       \nint                  0         )\n(970, \nhora                 0         \nminuto               0         \nsegundo              0         \nreal                 0.0       \nint                  0         )\n(971, \nhora                 0         \nminuto               0         \nsegundo              0         \nreal                 0.0       \nint                  0         )\n(972, \nhora                 0         \nminuto               0         \nsegundo              0         \nreal                 0.0       \nint                  0         )\n(973, \nhora                 0         \nminuto               0         \nsegundo              0         \nreal                 0.0       \nint                  0         )\n(974, \nhora                 0         \nminuto               0         \nsegundo              0         \nreal                 0.0       \nint                  0         )\n(975, \nhora                 0         \nminuto               0         \nsegundo              0         \nreal                 0.0       \nint                  0         )\n(976, \nhora                 0         \nminuto               0         \nsegundo              0         \nreal                 0.0       \nint                  0         )\n(977, \nhora                 0         \nminuto               0         \nsegundo              0         \nreal                 0.0       \nint                  0         )\n(978, \nhora                 0         \nminuto               0         \nsegundo              0         \nreal                 0.0       \nint                  0         )\n(979, \nhora                 0         \nminuto               0         \nsegundo              0         \nreal                 0.0       \nint                  0         )\n(980, \nhora                 0         \nminuto               0         \nsegundo              0         \nreal                 0.0       \nint                  0         )\n(981, \nhora                 0         \nminuto               0         \nsegundo              0         \nreal                 0.0       \nint                  0         )\n(982, \nhora                 0         \nminuto               0         \nsegundo              0         \nreal                 0.0       \nint                  0         )\n(983, \nhora                 0         \nminuto               0         \nsegundo              0         \nreal                 0.0       \nint                  0         )\n(984, \nhora                 0         \nminuto               0         \nsegundo              0         \nreal                 0.0       \nint                  0         )\n(985, \nhora                 0         \nminuto               0         \nsegundo              0         \nreal                 0.0       \nint                  0         )\n(986, \nhora                 0         \nminuto               0         \nsegundo              0         \nreal                 0.0       \nint                  0         )\n(987, \nhora                 0         \nminuto               0         \nsegundo              0         \nreal                 0.0       \nint                  0         )\n(988, \nhora                 0         \nminuto               0         \nsegundo              0         \nreal                 0.0       \nint                  0         )\n(989, \nhora                 0         \nminuto               0         \nsegundo              0         \nreal                 0.0       \nint                  0         )\n(990, \nhora                 0         \nminuto               0         \nsegundo              0         \nreal                 0.0       \nint                  0         )\n(991, \nhora                 0         \nminuto               0         \nsegundo              0         \nreal                 0.0       \nint                  0         )\n(992, \nhora                 0         \nminuto               0         \nsegundo              0         \nreal                 0.0       \nint                  0         )\n(993, \nhora                 0         \nminuto               0         \nsegundo              0         \nreal                 0.0       \nint                  0         )\n(994, \nhora                 0         \nminuto               0         \nsegundo              0         \nreal                 0.0       \nint                  0         )\n(995, \nhora                 0         \nminuto               0         \nsegundo              0         \nreal                 0.0       \nint                  0         )\n(996, \nhora                 0         \nminuto               0         \nsegundo              0         \nreal                 0.0       \nint                  0         )\n(997, \nhora                 0         \nminuto               0         \nsegundo              0         \nreal                 0.0       \nint                  0         )\n(998, \nhora                 0         \nminuto               0         \nsegundo              0         \nreal                 0.0       \nint                  0         )\n(999, \nhora                 0         \nminuto               0         \nsegundo              0         \nreal                 0.0       \nint                  0         )\n"
    },
    {
     "output_type": "execute_result",
     "data": {
      "text/plain": "[None,\n None,\n None,\n None,\n None,\n None,\n None,\n None,\n None,\n None,\n None,\n None,\n None,\n None,\n None,\n None,\n None,\n None,\n None,\n None,\n None,\n None,\n None,\n None,\n None,\n None,\n None,\n None,\n None,\n None,\n None,\n None,\n None,\n None,\n None,\n None,\n None,\n None,\n None,\n None,\n None,\n None,\n None,\n None,\n None,\n None,\n None,\n None,\n None,\n None,\n None,\n None,\n None,\n None,\n None,\n None,\n None,\n None,\n None,\n None,\n None,\n None,\n None,\n None,\n None,\n None,\n None,\n None,\n None,\n None,\n None,\n None,\n None,\n None,\n None,\n None,\n None,\n None,\n None,\n None,\n None,\n None,\n None,\n None,\n None,\n None,\n None,\n None,\n None,\n None,\n None,\n None,\n None,\n None,\n None,\n None,\n None,\n None,\n None,\n None,\n None,\n None,\n None,\n None,\n None,\n None,\n None,\n None,\n None,\n None,\n None,\n None,\n None,\n None,\n None,\n None,\n None,\n None,\n None,\n None,\n None,\n None,\n None,\n None,\n None,\n None,\n None,\n None,\n None,\n None,\n None,\n None,\n None,\n None,\n None,\n None,\n None,\n None,\n None,\n None,\n None,\n None,\n None,\n None,\n None,\n None,\n None,\n None,\n None,\n None,\n None,\n None,\n None,\n None,\n None,\n None,\n None,\n None,\n None,\n None,\n None,\n None,\n None,\n None,\n None,\n None,\n None,\n None,\n None,\n None,\n None,\n None,\n None,\n None,\n None,\n None,\n None,\n None,\n None,\n None,\n None,\n None,\n None,\n None,\n None,\n None,\n None,\n None,\n None,\n None,\n None,\n None,\n None,\n None,\n None,\n None,\n None,\n None,\n None,\n None,\n None,\n None,\n None,\n None,\n None,\n None,\n None,\n None,\n None,\n None,\n None,\n None,\n None,\n None,\n None,\n None,\n None,\n None,\n None,\n None,\n None,\n None,\n None,\n None,\n None,\n None,\n None,\n None,\n None,\n None,\n None,\n None,\n None,\n None,\n None,\n None,\n None,\n None,\n None,\n None,\n None,\n None,\n None,\n None,\n None,\n None,\n None,\n None,\n None,\n None,\n None,\n None,\n None,\n None,\n None,\n None,\n None,\n None,\n None,\n None,\n None,\n None,\n None,\n None,\n None,\n None,\n None,\n None,\n None,\n None,\n None,\n None,\n None,\n None,\n None,\n None,\n None,\n None,\n None,\n None,\n None,\n None,\n None,\n None,\n None,\n None,\n None,\n None,\n None,\n None,\n None,\n None,\n None,\n None,\n None,\n None,\n None,\n None,\n None,\n None,\n None,\n None,\n None,\n None,\n None,\n None,\n None,\n None,\n None,\n None,\n None,\n None,\n None,\n None,\n None,\n None,\n None,\n None,\n None,\n None,\n None,\n None,\n None,\n None,\n None,\n None,\n None,\n None,\n None,\n None,\n None,\n None,\n None,\n None,\n None,\n None,\n None,\n None,\n None,\n None,\n None,\n None,\n None,\n None,\n None,\n None,\n None,\n None,\n None,\n None,\n None,\n None,\n None,\n None,\n None,\n None,\n None,\n None,\n None,\n None,\n None,\n None,\n None,\n None,\n None,\n None,\n None,\n None,\n None,\n None,\n None,\n None,\n None,\n None,\n None,\n None,\n None,\n None,\n None,\n None,\n None,\n None,\n None,\n None,\n None,\n None,\n None,\n None,\n None,\n None,\n None,\n None,\n None,\n None,\n None,\n None,\n None,\n None,\n None,\n None,\n None,\n None,\n None,\n None,\n None,\n None,\n None,\n None,\n None,\n None,\n None,\n None,\n None,\n None,\n None,\n None,\n None,\n None,\n None,\n None,\n None,\n None,\n None,\n None,\n None,\n None,\n None,\n None,\n None,\n None,\n None,\n None,\n None,\n None,\n None,\n None,\n None,\n None,\n None,\n None,\n None,\n None,\n None,\n None,\n None,\n None,\n None,\n None,\n None,\n None,\n None,\n None,\n None,\n None,\n None,\n None,\n None,\n None,\n None,\n None,\n None,\n None,\n None,\n None,\n None,\n None,\n None,\n None,\n None,\n None,\n None,\n None,\n None,\n None,\n None,\n None,\n None,\n None,\n None,\n None,\n None,\n None,\n None,\n None,\n None,\n None,\n None,\n None,\n None,\n None,\n None,\n None,\n None,\n None,\n None,\n None,\n None,\n None,\n None,\n None,\n None,\n None,\n None,\n None,\n None,\n None,\n None,\n None,\n None,\n None,\n None,\n None,\n None,\n None,\n None,\n None,\n None,\n None,\n None,\n None,\n None,\n None,\n None,\n None,\n None,\n None,\n None,\n None,\n None,\n None,\n None,\n None,\n None,\n None,\n None,\n None,\n None,\n None,\n None,\n None,\n None,\n None,\n None,\n None,\n None,\n None,\n None,\n None,\n None,\n None,\n None,\n None,\n None,\n None,\n None,\n None,\n None,\n None,\n None,\n None,\n None,\n None,\n None,\n None,\n None,\n None,\n None,\n None,\n None,\n None,\n None,\n None,\n None,\n None,\n None,\n None,\n None,\n None,\n None,\n None,\n None,\n None,\n None,\n None,\n None,\n None,\n None,\n None,\n None,\n None,\n None,\n None,\n None,\n None,\n None,\n None,\n None,\n None,\n None,\n None,\n None,\n None,\n None,\n None,\n None,\n None,\n None,\n None,\n None,\n None,\n None,\n None,\n None,\n None,\n None,\n None,\n None,\n None,\n None,\n None,\n None,\n None,\n None,\n None,\n None,\n None,\n None,\n None,\n None,\n None,\n None,\n None,\n None,\n None,\n None,\n None,\n None,\n None,\n None,\n None,\n None,\n None,\n None,\n None,\n None,\n None,\n None,\n None,\n None,\n None,\n None,\n None,\n None,\n None,\n None,\n None,\n None,\n None,\n None,\n None,\n None,\n None,\n None,\n None,\n None,\n None,\n None,\n None,\n None,\n None,\n None,\n None,\n None,\n None,\n None,\n None,\n None,\n None,\n None,\n None,\n None,\n None,\n None,\n None,\n None,\n None,\n None,\n None,\n None,\n None,\n None,\n None,\n None,\n None,\n None,\n None,\n None,\n None,\n None,\n None,\n None,\n None,\n None,\n None,\n None,\n None,\n None,\n None,\n None,\n None,\n None,\n None,\n None,\n None,\n None,\n None,\n None,\n None,\n None,\n None,\n None,\n None,\n None,\n None,\n None,\n None,\n None,\n None,\n None,\n None,\n None,\n None,\n None,\n None,\n None,\n None,\n None,\n None,\n None,\n None,\n None,\n None,\n None,\n None,\n None,\n None,\n None,\n None,\n None,\n None,\n None,\n None,\n None,\n None,\n None,\n None,\n None,\n None,\n None,\n None,\n None,\n None,\n None,\n None,\n None,\n None,\n None,\n None,\n None,\n None,\n None,\n None,\n None,\n None,\n None,\n None,\n None,\n None,\n None,\n None,\n None,\n None,\n None,\n None,\n None,\n None,\n None,\n None,\n None,\n None,\n None,\n None,\n None,\n None,\n None,\n None,\n None,\n None,\n None,\n None,\n None,\n None,\n None,\n None,\n None,\n None,\n None,\n None,\n None,\n None,\n None,\n None,\n None,\n None,\n None,\n None,\n None,\n None,\n None,\n None,\n None,\n None,\n None,\n None,\n None,\n None,\n None,\n None,\n None,\n None,\n None,\n None,\n None,\n None,\n None,\n None,\n None,\n None,\n None,\n None,\n None,\n None,\n None,\n None,\n None,\n None,\n None,\n None,\n None,\n None,\n None,\n None,\n None,\n None,\n None,\n None,\n None,\n None,\n None,\n None,\n None,\n None,\n None,\n None,\n None,\n None,\n None,\n None,\n None,\n None,\n None,\n None,\n None,\n None,\n None,\n None,\n None,\n None,\n None,\n None,\n None,\n None,\n None,\n None,\n None,\n None,\n None,\n None,\n None,\n None,\n None,\n None,\n None,\n None,\n None,\n None,\n None,\n None,\n None,\n None,\n None,\n None,\n None,\n None,\n None,\n None,\n None,\n None,\n None,\n None,\n None,\n None,\n None,\n None,\n None,\n None,\n None,\n None,\n None,\n None,\n None,\n None,\n None,\n None,\n None,\n None,\n None,\n None,\n None,\n None,\n None,\n None,\n None,\n None,\n None,\n None,\n None,\n None,\n None,\n None,\n None,\n None,\n None,\n None,\n None,\n None,\n None,\n None,\n None,\n None,\n None,\n None,\n None,\n None,\n None,\n None,\n None,\n None,\n None,\n None,\n None,\n None,\n None,\n None,\n None,\n None,\n None,\n None,\n None,\n None,\n None,\n None,\n None,\n None,\n None,\n None,\n None,\n None,\n None,\n None,\n None,\n None,\n None,\n None,\n None,\n None,\n None,\n None,\n None,\n None,\n None,\n None,\n None,\n None,\n None,\n None,\n None,\n None,\n None,\n None]"
     },
     "metadata": {},
     "execution_count": 11
    }
   ],
   "source": [
    "[print(db) for db in db1]\n"
   ]
  },
  {
   "cell_type": "code",
   "execution_count": 9,
   "metadata": {
    "tags": []
   },
   "outputs": [
    {
     "output_type": "stream",
     "name": "stdout",
     "text": "(0, \nint0                 15        )\n"
    },
    {
     "output_type": "execute_result",
     "data": {
      "text/plain": "[None]"
     },
     "metadata": {},
     "execution_count": 9
    }
   ],
   "source": [
    "with open('lecturas/marcas fosforico.txt', 'r') as f:\n",
    "    layout = f.read()\n",
    "all_data = client.read_area(S7AreaMK, 0, 0, 10)\n",
    "db2 = DB(\n",
    "    0,              # the db we use\n",
    "    all_data,               # bytearray from the plc\n",
    "    layout,                 # layout specification DB variable data\n",
    "    10,                   # size of the specification 17 is start\n",
    "    1,                      # number of row's / specifications\n",
    ")\n",
    "[print(db) for db in db2]"
   ]
  },
  {
   "cell_type": "code",
   "execution_count": 11,
   "metadata": {},
   "outputs": [
    {
     "output_type": "execute_result",
     "data": {
      "text/plain": "15"
     },
     "metadata": {},
     "execution_count": 11
    }
   ],
   "source": [
    "db2[0]['int0']"
   ]
  },
  {
   "cell_type": "code",
   "execution_count": 23,
   "metadata": {},
   "outputs": [
    {
     "output_type": "execute_result",
     "data": {
      "text/plain": "['\\nhora                 12       ',\n 'minuto               30       ',\n 'segundo              45       ',\n 'real                 1500.0   ',\n 'int                  99        ']"
     },
     "metadata": {},
     "execution_count": 23
    }
   ],
   "source": [
    "db1[0]"
   ]
  },
  {
   "cell_type": "code",
   "execution_count": null,
   "metadata": {},
   "outputs": [],
   "source": []
  }
 ]
}